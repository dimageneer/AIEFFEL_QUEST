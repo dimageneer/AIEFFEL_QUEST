{
  "nbformat": 4,
  "nbformat_minor": 0,
  "metadata": {
    "colab": {
      "provenance": [],
      "include_colab_link": true
    },
    "kernelspec": {
      "name": "python3",
      "display_name": "Python 3"
    },
    "language_info": {
      "name": "python"
    }
  },
  "cells": [
    {
      "cell_type": "markdown",
      "metadata": {
        "id": "view-in-github",
        "colab_type": "text"
      },
      "source": [
        "<a href=\"https://colab.research.google.com/github/dimageneer/AIEFFEL_QUEST/blob/main/%EA%B8%B0%EC%B4%88_%ED%86%B5%EA%B3%84_MainQuest03%EC%9D%98_%EC%82%AC%EB%B3%B8.ipynb\" target=\"_parent\"><img src=\"https://colab.research.google.com/assets/colab-badge.svg\" alt=\"Open In Colab\"/></a>"
      ]
    },
    {
      "cell_type": "code",
      "execution_count": 1,
      "metadata": {
        "id": "roCZN58vEV8j"
      },
      "outputs": [],
      "source": [
        "import pandas as pd\n",
        "import numpy as np\n",
        "import matplotlib.pyplot as plt\n",
        "import seaborn as sns"
      ]
    },
    {
      "cell_type": "code",
      "source": [
        "!pip install kagglehub"
      ],
      "metadata": {
        "id": "Ln2ta7MtEeBn",
        "colab": {
          "base_uri": "https://localhost:8080/"
        },
        "outputId": "5a10c7b7-fea1-4976-a30b-96e91a447da8"
      },
      "execution_count": 2,
      "outputs": [
        {
          "output_type": "stream",
          "name": "stdout",
          "text": [
            "Requirement already satisfied: kagglehub in /usr/local/lib/python3.12/dist-packages (0.3.13)\n",
            "Requirement already satisfied: packaging in /usr/local/lib/python3.12/dist-packages (from kagglehub) (25.0)\n",
            "Requirement already satisfied: pyyaml in /usr/local/lib/python3.12/dist-packages (from kagglehub) (6.0.3)\n",
            "Requirement already satisfied: requests in /usr/local/lib/python3.12/dist-packages (from kagglehub) (2.32.4)\n",
            "Requirement already satisfied: tqdm in /usr/local/lib/python3.12/dist-packages (from kagglehub) (4.67.1)\n",
            "Requirement already satisfied: charset_normalizer<4,>=2 in /usr/local/lib/python3.12/dist-packages (from requests->kagglehub) (3.4.4)\n",
            "Requirement already satisfied: idna<4,>=2.5 in /usr/local/lib/python3.12/dist-packages (from requests->kagglehub) (3.11)\n",
            "Requirement already satisfied: urllib3<3,>=1.21.1 in /usr/local/lib/python3.12/dist-packages (from requests->kagglehub) (2.5.0)\n",
            "Requirement already satisfied: certifi>=2017.4.17 in /usr/local/lib/python3.12/dist-packages (from requests->kagglehub) (2025.10.5)\n"
          ]
        }
      ]
    },
    {
      "cell_type": "code",
      "source": [
        "import kagglehub\n",
        "import os\n",
        "\n",
        "# Download latest version\n",
        "path = kagglehub.dataset_download(\"tunguz/online-retail\")\n",
        "\n",
        "print(\"Path to dataset files:\", path)\n",
        "df = pd.read_csv(path + '/' + os.listdir(path)[0], encoding='latin1')\n",
        "df.shape"
      ],
      "metadata": {
        "id": "nzm86qcTEXKO",
        "colab": {
          "base_uri": "https://localhost:8080/"
        },
        "outputId": "c4636fc0-5574-4abb-9b49-d1fec4121558"
      },
      "execution_count": 3,
      "outputs": [
        {
          "output_type": "stream",
          "name": "stdout",
          "text": [
            "Using Colab cache for faster access to the 'online-retail' dataset.\n",
            "Path to dataset files: /kaggle/input/online-retail\n"
          ]
        },
        {
          "output_type": "execute_result",
          "data": {
            "text/plain": [
              "(541909, 8)"
            ]
          },
          "metadata": {},
          "execution_count": 3
        }
      ]
    },
    {
      "cell_type": "code",
      "source": [
        "df.head()"
      ],
      "metadata": {
        "id": "1a1z6CpsMVmm",
        "colab": {
          "base_uri": "https://localhost:8080/",
          "height": 293
        },
        "outputId": "e31d0802-ac65-4d97-81f4-15f8755ba965"
      },
      "execution_count": 4,
      "outputs": [
        {
          "output_type": "execute_result",
          "data": {
            "text/plain": [
              "  InvoiceNo StockCode                          Description  Quantity  \\\n",
              "0    536365    85123A   WHITE HANGING HEART T-LIGHT HOLDER         6   \n",
              "1    536365     71053                  WHITE METAL LANTERN         6   \n",
              "2    536365    84406B       CREAM CUPID HEARTS COAT HANGER         8   \n",
              "3    536365    84029G  KNITTED UNION FLAG HOT WATER BOTTLE         6   \n",
              "4    536365    84029E       RED WOOLLY HOTTIE WHITE HEART.         6   \n",
              "\n",
              "    InvoiceDate  UnitPrice  CustomerID         Country  \n",
              "0  12/1/10 8:26       2.55     17850.0  United Kingdom  \n",
              "1  12/1/10 8:26       3.39     17850.0  United Kingdom  \n",
              "2  12/1/10 8:26       2.75     17850.0  United Kingdom  \n",
              "3  12/1/10 8:26       3.39     17850.0  United Kingdom  \n",
              "4  12/1/10 8:26       3.39     17850.0  United Kingdom  "
            ],
            "text/html": [
              "\n",
              "  <div id=\"df-e12fb28c-1295-4ad5-b68a-f3acd24ae838\" class=\"colab-df-container\">\n",
              "    <div>\n",
              "<style scoped>\n",
              "    .dataframe tbody tr th:only-of-type {\n",
              "        vertical-align: middle;\n",
              "    }\n",
              "\n",
              "    .dataframe tbody tr th {\n",
              "        vertical-align: top;\n",
              "    }\n",
              "\n",
              "    .dataframe thead th {\n",
              "        text-align: right;\n",
              "    }\n",
              "</style>\n",
              "<table border=\"1\" class=\"dataframe\">\n",
              "  <thead>\n",
              "    <tr style=\"text-align: right;\">\n",
              "      <th></th>\n",
              "      <th>InvoiceNo</th>\n",
              "      <th>StockCode</th>\n",
              "      <th>Description</th>\n",
              "      <th>Quantity</th>\n",
              "      <th>InvoiceDate</th>\n",
              "      <th>UnitPrice</th>\n",
              "      <th>CustomerID</th>\n",
              "      <th>Country</th>\n",
              "    </tr>\n",
              "  </thead>\n",
              "  <tbody>\n",
              "    <tr>\n",
              "      <th>0</th>\n",
              "      <td>536365</td>\n",
              "      <td>85123A</td>\n",
              "      <td>WHITE HANGING HEART T-LIGHT HOLDER</td>\n",
              "      <td>6</td>\n",
              "      <td>12/1/10 8:26</td>\n",
              "      <td>2.55</td>\n",
              "      <td>17850.0</td>\n",
              "      <td>United Kingdom</td>\n",
              "    </tr>\n",
              "    <tr>\n",
              "      <th>1</th>\n",
              "      <td>536365</td>\n",
              "      <td>71053</td>\n",
              "      <td>WHITE METAL LANTERN</td>\n",
              "      <td>6</td>\n",
              "      <td>12/1/10 8:26</td>\n",
              "      <td>3.39</td>\n",
              "      <td>17850.0</td>\n",
              "      <td>United Kingdom</td>\n",
              "    </tr>\n",
              "    <tr>\n",
              "      <th>2</th>\n",
              "      <td>536365</td>\n",
              "      <td>84406B</td>\n",
              "      <td>CREAM CUPID HEARTS COAT HANGER</td>\n",
              "      <td>8</td>\n",
              "      <td>12/1/10 8:26</td>\n",
              "      <td>2.75</td>\n",
              "      <td>17850.0</td>\n",
              "      <td>United Kingdom</td>\n",
              "    </tr>\n",
              "    <tr>\n",
              "      <th>3</th>\n",
              "      <td>536365</td>\n",
              "      <td>84029G</td>\n",
              "      <td>KNITTED UNION FLAG HOT WATER BOTTLE</td>\n",
              "      <td>6</td>\n",
              "      <td>12/1/10 8:26</td>\n",
              "      <td>3.39</td>\n",
              "      <td>17850.0</td>\n",
              "      <td>United Kingdom</td>\n",
              "    </tr>\n",
              "    <tr>\n",
              "      <th>4</th>\n",
              "      <td>536365</td>\n",
              "      <td>84029E</td>\n",
              "      <td>RED WOOLLY HOTTIE WHITE HEART.</td>\n",
              "      <td>6</td>\n",
              "      <td>12/1/10 8:26</td>\n",
              "      <td>3.39</td>\n",
              "      <td>17850.0</td>\n",
              "      <td>United Kingdom</td>\n",
              "    </tr>\n",
              "  </tbody>\n",
              "</table>\n",
              "</div>\n",
              "    <div class=\"colab-df-buttons\">\n",
              "\n",
              "  <div class=\"colab-df-container\">\n",
              "    <button class=\"colab-df-convert\" onclick=\"convertToInteractive('df-e12fb28c-1295-4ad5-b68a-f3acd24ae838')\"\n",
              "            title=\"Convert this dataframe to an interactive table.\"\n",
              "            style=\"display:none;\">\n",
              "\n",
              "  <svg xmlns=\"http://www.w3.org/2000/svg\" height=\"24px\" viewBox=\"0 -960 960 960\">\n",
              "    <path d=\"M120-120v-720h720v720H120Zm60-500h600v-160H180v160Zm220 220h160v-160H400v160Zm0 220h160v-160H400v160ZM180-400h160v-160H180v160Zm440 0h160v-160H620v160ZM180-180h160v-160H180v160Zm440 0h160v-160H620v160Z\"/>\n",
              "  </svg>\n",
              "    </button>\n",
              "\n",
              "  <style>\n",
              "    .colab-df-container {\n",
              "      display:flex;\n",
              "      gap: 12px;\n",
              "    }\n",
              "\n",
              "    .colab-df-convert {\n",
              "      background-color: #E8F0FE;\n",
              "      border: none;\n",
              "      border-radius: 50%;\n",
              "      cursor: pointer;\n",
              "      display: none;\n",
              "      fill: #1967D2;\n",
              "      height: 32px;\n",
              "      padding: 0 0 0 0;\n",
              "      width: 32px;\n",
              "    }\n",
              "\n",
              "    .colab-df-convert:hover {\n",
              "      background-color: #E2EBFA;\n",
              "      box-shadow: 0px 1px 2px rgba(60, 64, 67, 0.3), 0px 1px 3px 1px rgba(60, 64, 67, 0.15);\n",
              "      fill: #174EA6;\n",
              "    }\n",
              "\n",
              "    .colab-df-buttons div {\n",
              "      margin-bottom: 4px;\n",
              "    }\n",
              "\n",
              "    [theme=dark] .colab-df-convert {\n",
              "      background-color: #3B4455;\n",
              "      fill: #D2E3FC;\n",
              "    }\n",
              "\n",
              "    [theme=dark] .colab-df-convert:hover {\n",
              "      background-color: #434B5C;\n",
              "      box-shadow: 0px 1px 3px 1px rgba(0, 0, 0, 0.15);\n",
              "      filter: drop-shadow(0px 1px 2px rgba(0, 0, 0, 0.3));\n",
              "      fill: #FFFFFF;\n",
              "    }\n",
              "  </style>\n",
              "\n",
              "    <script>\n",
              "      const buttonEl =\n",
              "        document.querySelector('#df-e12fb28c-1295-4ad5-b68a-f3acd24ae838 button.colab-df-convert');\n",
              "      buttonEl.style.display =\n",
              "        google.colab.kernel.accessAllowed ? 'block' : 'none';\n",
              "\n",
              "      async function convertToInteractive(key) {\n",
              "        const element = document.querySelector('#df-e12fb28c-1295-4ad5-b68a-f3acd24ae838');\n",
              "        const dataTable =\n",
              "          await google.colab.kernel.invokeFunction('convertToInteractive',\n",
              "                                                    [key], {});\n",
              "        if (!dataTable) return;\n",
              "\n",
              "        const docLinkHtml = 'Like what you see? Visit the ' +\n",
              "          '<a target=\"_blank\" href=https://colab.research.google.com/notebooks/data_table.ipynb>data table notebook</a>'\n",
              "          + ' to learn more about interactive tables.';\n",
              "        element.innerHTML = '';\n",
              "        dataTable['output_type'] = 'display_data';\n",
              "        await google.colab.output.renderOutput(dataTable, element);\n",
              "        const docLink = document.createElement('div');\n",
              "        docLink.innerHTML = docLinkHtml;\n",
              "        element.appendChild(docLink);\n",
              "      }\n",
              "    </script>\n",
              "  </div>\n",
              "\n",
              "\n",
              "    <div id=\"df-5cea9454-8019-41c5-a80c-8894b5c98149\">\n",
              "      <button class=\"colab-df-quickchart\" onclick=\"quickchart('df-5cea9454-8019-41c5-a80c-8894b5c98149')\"\n",
              "                title=\"Suggest charts\"\n",
              "                style=\"display:none;\">\n",
              "\n",
              "<svg xmlns=\"http://www.w3.org/2000/svg\" height=\"24px\"viewBox=\"0 0 24 24\"\n",
              "     width=\"24px\">\n",
              "    <g>\n",
              "        <path d=\"M19 3H5c-1.1 0-2 .9-2 2v14c0 1.1.9 2 2 2h14c1.1 0 2-.9 2-2V5c0-1.1-.9-2-2-2zM9 17H7v-7h2v7zm4 0h-2V7h2v10zm4 0h-2v-4h2v4z\"/>\n",
              "    </g>\n",
              "</svg>\n",
              "      </button>\n",
              "\n",
              "<style>\n",
              "  .colab-df-quickchart {\n",
              "      --bg-color: #E8F0FE;\n",
              "      --fill-color: #1967D2;\n",
              "      --hover-bg-color: #E2EBFA;\n",
              "      --hover-fill-color: #174EA6;\n",
              "      --disabled-fill-color: #AAA;\n",
              "      --disabled-bg-color: #DDD;\n",
              "  }\n",
              "\n",
              "  [theme=dark] .colab-df-quickchart {\n",
              "      --bg-color: #3B4455;\n",
              "      --fill-color: #D2E3FC;\n",
              "      --hover-bg-color: #434B5C;\n",
              "      --hover-fill-color: #FFFFFF;\n",
              "      --disabled-bg-color: #3B4455;\n",
              "      --disabled-fill-color: #666;\n",
              "  }\n",
              "\n",
              "  .colab-df-quickchart {\n",
              "    background-color: var(--bg-color);\n",
              "    border: none;\n",
              "    border-radius: 50%;\n",
              "    cursor: pointer;\n",
              "    display: none;\n",
              "    fill: var(--fill-color);\n",
              "    height: 32px;\n",
              "    padding: 0;\n",
              "    width: 32px;\n",
              "  }\n",
              "\n",
              "  .colab-df-quickchart:hover {\n",
              "    background-color: var(--hover-bg-color);\n",
              "    box-shadow: 0 1px 2px rgba(60, 64, 67, 0.3), 0 1px 3px 1px rgba(60, 64, 67, 0.15);\n",
              "    fill: var(--button-hover-fill-color);\n",
              "  }\n",
              "\n",
              "  .colab-df-quickchart-complete:disabled,\n",
              "  .colab-df-quickchart-complete:disabled:hover {\n",
              "    background-color: var(--disabled-bg-color);\n",
              "    fill: var(--disabled-fill-color);\n",
              "    box-shadow: none;\n",
              "  }\n",
              "\n",
              "  .colab-df-spinner {\n",
              "    border: 2px solid var(--fill-color);\n",
              "    border-color: transparent;\n",
              "    border-bottom-color: var(--fill-color);\n",
              "    animation:\n",
              "      spin 1s steps(1) infinite;\n",
              "  }\n",
              "\n",
              "  @keyframes spin {\n",
              "    0% {\n",
              "      border-color: transparent;\n",
              "      border-bottom-color: var(--fill-color);\n",
              "      border-left-color: var(--fill-color);\n",
              "    }\n",
              "    20% {\n",
              "      border-color: transparent;\n",
              "      border-left-color: var(--fill-color);\n",
              "      border-top-color: var(--fill-color);\n",
              "    }\n",
              "    30% {\n",
              "      border-color: transparent;\n",
              "      border-left-color: var(--fill-color);\n",
              "      border-top-color: var(--fill-color);\n",
              "      border-right-color: var(--fill-color);\n",
              "    }\n",
              "    40% {\n",
              "      border-color: transparent;\n",
              "      border-right-color: var(--fill-color);\n",
              "      border-top-color: var(--fill-color);\n",
              "    }\n",
              "    60% {\n",
              "      border-color: transparent;\n",
              "      border-right-color: var(--fill-color);\n",
              "    }\n",
              "    80% {\n",
              "      border-color: transparent;\n",
              "      border-right-color: var(--fill-color);\n",
              "      border-bottom-color: var(--fill-color);\n",
              "    }\n",
              "    90% {\n",
              "      border-color: transparent;\n",
              "      border-bottom-color: var(--fill-color);\n",
              "    }\n",
              "  }\n",
              "</style>\n",
              "\n",
              "      <script>\n",
              "        async function quickchart(key) {\n",
              "          const quickchartButtonEl =\n",
              "            document.querySelector('#' + key + ' button');\n",
              "          quickchartButtonEl.disabled = true;  // To prevent multiple clicks.\n",
              "          quickchartButtonEl.classList.add('colab-df-spinner');\n",
              "          try {\n",
              "            const charts = await google.colab.kernel.invokeFunction(\n",
              "                'suggestCharts', [key], {});\n",
              "          } catch (error) {\n",
              "            console.error('Error during call to suggestCharts:', error);\n",
              "          }\n",
              "          quickchartButtonEl.classList.remove('colab-df-spinner');\n",
              "          quickchartButtonEl.classList.add('colab-df-quickchart-complete');\n",
              "        }\n",
              "        (() => {\n",
              "          let quickchartButtonEl =\n",
              "            document.querySelector('#df-5cea9454-8019-41c5-a80c-8894b5c98149 button');\n",
              "          quickchartButtonEl.style.display =\n",
              "            google.colab.kernel.accessAllowed ? 'block' : 'none';\n",
              "        })();\n",
              "      </script>\n",
              "    </div>\n",
              "\n",
              "    </div>\n",
              "  </div>\n"
            ],
            "application/vnd.google.colaboratory.intrinsic+json": {
              "type": "dataframe",
              "variable_name": "df"
            }
          },
          "metadata": {},
          "execution_count": 4
        }
      ]
    },
    {
      "cell_type": "code",
      "source": [
        "df.info()"
      ],
      "metadata": {
        "id": "L0HBCqRrKnx4",
        "colab": {
          "base_uri": "https://localhost:8080/"
        },
        "outputId": "52b7adc1-2279-4708-ff67-c180840aa536"
      },
      "execution_count": 5,
      "outputs": [
        {
          "output_type": "stream",
          "name": "stdout",
          "text": [
            "<class 'pandas.core.frame.DataFrame'>\n",
            "RangeIndex: 541909 entries, 0 to 541908\n",
            "Data columns (total 8 columns):\n",
            " #   Column       Non-Null Count   Dtype  \n",
            "---  ------       --------------   -----  \n",
            " 0   InvoiceNo    541909 non-null  object \n",
            " 1   StockCode    541909 non-null  object \n",
            " 2   Description  540455 non-null  object \n",
            " 3   Quantity     541909 non-null  int64  \n",
            " 4   InvoiceDate  541909 non-null  object \n",
            " 5   UnitPrice    541909 non-null  float64\n",
            " 6   CustomerID   406829 non-null  float64\n",
            " 7   Country      541909 non-null  object \n",
            "dtypes: float64(2), int64(1), object(5)\n",
            "memory usage: 33.1+ MB\n"
          ]
        }
      ]
    },
    {
      "cell_type": "code",
      "source": [],
      "metadata": {
        "id": "tr_OZOGCt1g6"
      },
      "execution_count": null,
      "outputs": []
    },
    {
      "cell_type": "code",
      "source": [
        "# 주문 가격 피쳐 생성\n",
        "df[\"TotalPrice\"] = df[\"Quantity\"] * df[\"UnitPrice\"]"
      ],
      "metadata": {
        "id": "9eMYZRXsMvDk"
      },
      "execution_count": 8,
      "outputs": []
    },
    {
      "cell_type": "code",
      "source": [
        "# 'InvoiceDate' 컬럼을 이용하여 주중과 주말을 구분\n",
        "df['InvoiceDate'] = pd.to_datetime(df['InvoiceDate'])\n",
        "df['DayOfWeek'] = df['InvoiceDate'].dt.dayofweek\n",
        "\n",
        "# 'InvoiceDate' 컬럼 이용하여 판매 월 추출\n",
        "df[\"InvoiceDate\"] = pd.to_datetime(df[\"InvoiceDate\"].astype(str))\n",
        "df[\"InvoiceMonth\"] = df[\"InvoiceDate\"].dt.month"
      ],
      "metadata": {
        "id": "Yjh3OImd9Yms"
      },
      "execution_count": 10,
      "outputs": []
    },
    {
      "cell_type": "code",
      "source": [],
      "metadata": {
        "id": "OeW2pHEpt2O4"
      },
      "execution_count": null,
      "outputs": []
    },
    {
      "cell_type": "markdown",
      "source": [
        "## 1. 모집단과 표본 집단의 TotalPrice를 비교해 주세요.\n",
        "\n",
        "* 데이터셋에서 무작위로 1000개의 표본을 추출하세요.\n",
        "* 추출된 표본과 전체 데이터셋의 'TotalPrice'에 대해 평균과 표준편차를 비교해주세요.  \n",
        "* 중심극한정리를 사용해 모집단과 표본의 차이를 설명해주세요.\n",
        "\n",
        "* TotalPrice를 모집단으로 한다."
      ],
      "metadata": {
        "id": "JT3nUp9NMpGi"
      }
    },
    {
      "cell_type": "code",
      "source": [
        "# 문제 1: 모집단과 표본 집단의 TotalPrice 비교\n",
        "\n",
        "# 모집단 TotalPrice\n",
        "population_totalprice = df['TotalPrice']\n",
        "\n",
        "# 모집단 평균과 표준편차 계산\n",
        "population_mean = population_totalprice.mean()\n",
        "population_std = population_totalprice.std()\n",
        "\n",
        "print(f\"모집단 TotalPrice 평균: {population_mean:.2f}\")\n",
        "print(f\"모집단 TotalPrice 표준편차: {population_std:.2f}\")\n",
        "\n",
        "# 데이터셋에서 무작위로 1000개의 표본 추출\n",
        "sample_totalprice = population_totalprice.sample(n=1000, random_state=42) # 재현성을 위해 random_state 설정\n",
        "\n",
        "# 표본 평균과 표준편차 계산\n",
        "sample_mean = sample_totalprice.mean()\n",
        "sample_std = sample_totalprice.std()\n",
        "\n",
        "print(f\"\\n표본 (n=1000) TotalPrice 평균: {sample_mean:.2f}\")\n",
        "print(f\"표본 (n=1000) TotalPrice 표준편차: {sample_std:.2f}\")"
      ],
      "metadata": {
        "id": "-VJd-zJU9qSR",
        "colab": {
          "base_uri": "https://localhost:8080/"
        },
        "outputId": "bf6bd0e5-5c99-425d-f4db-3460a402c2d9"
      },
      "execution_count": 11,
      "outputs": [
        {
          "output_type": "stream",
          "name": "stdout",
          "text": [
            "모집단 TotalPrice 평균: 17.99\n",
            "모집단 TotalPrice 표준편차: 378.81\n",
            "\n",
            "표본 (n=1000) TotalPrice 평균: 16.83\n",
            "표본 (n=1000) TotalPrice 표준편차: 64.47\n"
          ]
        }
      ]
    },
    {
      "cell_type": "markdown",
      "source": [
        "## 문제 1 결과 분석 및 중심극한정리 설명\n",
        "\n",
        "위 코드 실행 결과에서 볼 수 있듯이, 1000개의 표본에서 계산된 'TotalPrice'의 평균과 표준편차는 모집단의 평균 및 표준편차와 유사한 값을 가집니다.\n",
        "\n",
        "이는 **중심극한정리(Central Limit Theorem, CLT)**에 의해 설명될 수 있습니다.\n",
        "\n",
        "중심극한정리는 표본의 크기가 충분히 크다면, 모집단의 분포 형태에 상관없이 표본 평균들의 분포는 정규 분포에 가까워지며,\n",
        "이 표본 평균들의 평균은 모집단의 평균과 같아진다는 정리입니다.\n",
        "\n",
        "이 경우, **'TotalPrice'는 모집단**이며, 여기서 추출한 1000개의 표본은 중심극한정리가 적용될 만큼 충분히 큰 크기입니다.\n",
        "\n",
        "따라서 추출된 표본의 평균(sample_mean)이 모집단의 평균(population_mean)과 가깝게 나타나는 것을 확인할 수 있습니다.\n",
        "\n",
        "또한, 표본의 표준편차(sample_std)는 모집단의 표준편차(population_std)와 비교했을 때 어느 정도 차이가 있지만,\n",
        "표본의 크기가 커질수록 이 값은 표본 평균 분포의 표준편차(표준 오차)에 가까워지게 됩니다.\n",
        "\n",
        "이 결과는 우리가 전체 모집단을 조사하지 않고도 충분히 큰 표본을 통해 모집단의 특성(평균, 표준편차 등)을 합리적으로 추정할 수 있음을 시사합니다."
      ],
      "metadata": {
        "id": "6YlUfsr7p5yQ"
      }
    },
    {
      "cell_type": "code",
      "source": [],
      "metadata": {
        "id": "s-OUOeRit3ta"
      },
      "execution_count": null,
      "outputs": []
    },
    {
      "cell_type": "markdown",
      "source": [
        "## 2. 주문이 가장 많은 상위 두 국가의 'TotalPrice' 평균에 차이가 있는지 검증하세요.\n",
        "\n",
        "* 'Country' 변수를 바탕으로 주문이 가장 많은 상위 두 국가를 찾으세요.\n",
        "* 독립표본 t-검정을 사용하여 두 국가 간 'TotalPrice' 평균의 차이가 통계적으로 유의미한지 검증하세요.  \n",
        "* t-통계량과 p-값을 해석하여 결과를 설명하고, 1종 오류와 2종 오류의 개념을 적용하여 설명해주세요."
      ],
      "metadata": {
        "id": "dvTXhGBpNG2E"
      }
    },
    {
      "cell_type": "code",
      "source": [
        "# 문제 2: 주문이 가장 많은 상위 두 국가의 'TotalPrice' 평균 차이 검증\n",
        "\n",
        "# 1. 'Country' 변수를 바탕으로 주문이 가장 많은 상위 두 국가 찾기\n",
        "country_counts = df['Country'].value_counts()\n",
        "top_two_countries = country_counts.head(2).index.tolist()\n",
        "\n",
        "print(f\"주문이 가장 많은 상위 두 국가: {top_two_countries}\")\n",
        "\n",
        "# 상위 두 국가의 데이터 추출\n",
        "country1_df = df[df['Country'] == top_two_countries[0]]\n",
        "country2_df = df[df['Country'] == top_two_countries[1]]\n",
        "\n",
        "# 두 국가의 TotalPrice 데이터\n",
        "country1_totalprice = country1_df['TotalPrice']\n",
        "country2_totalprice = country2_df['TotalPrice']\n",
        "\n",
        "# 2. 독립표본 t-검정 수행\n",
        "# scipy.stats의 ttest_ind를 사용합니다.\n",
        "# equal_var=False는 Welch's t-test를 수행하며, 두 그룹의 분산이 같지 않다고 가정할 때 사용됩니다.\n",
        "# 두 그룹의 분산이 같은지 확인하는 Levene 검정을 먼저 수행하는 것이 일반적이지만, 여기서는 간단하게 equal_var=False로 진행합니다.\n",
        "from scipy.stats import ttest_ind\n",
        "\n",
        "ttest_result = ttest_ind(country1_totalprice, country2_totalprice, equal_var=False)\n",
        "\n",
        "print(f\"\\n독립표본 t-검정 결과:\")\n",
        "print(f\"  t-통계량: {ttest_result.statistic:.4f}\")\n",
        "print(f\"  p-값: {ttest_result.pvalue:.4f}\")\n",
        "\n",
        "# 3. t-통계량과 p-값 해석 및 오류 설명\n",
        "\n",
        "# 유의수준 (alpha) 설정\n",
        "alpha = 0.05\n",
        "\n",
        "print(f\"\\n유의수준 (alpha): {alpha}\")\n",
        "\n",
        "if ttest_result.pvalue < alpha:\n",
        "    print(f\"  p-값 ({ttest_result.pvalue:.4f})이 유의수준 ({alpha})보다 작으므로 귀무가설을 기각합니다.\")\n",
        "    print(f\"  이는 {top_two_countries[0]}와 {top_two_countries[1]} 간의 TotalPrice 평균에 통계적으로 유의미한 차이가 있음을 의미합니다.\")\n",
        "else:\n",
        "    print(f\"  p-값 ({ttest_result.pvalue:.4f})이 유의수준 ({alpha})보다 크므로 귀무가설을 기각할 수 없습니다.\")\n",
        "    print(f\"  이는 {top_two_countries[0]}와 {top_two_countries[1]} 간의 TotalPrice 평균에 통계적으로 유의미한 차이가 있다고 보기 어렵다는 의미입니다.\")\n",
        "\n",
        "# 1종 오류와 2종 오류 개념 설명\n",
        "print(\"\\n1종 오류와 2종 오류 설명:\")\n",
        "print(f\"- 1종 오류 (Type I Error): 실제로는 두 국가 간 TotalPrice 평균에 차이가 없는데, t-검정 결과 통계적으로 유의미한 차이가 있다고 잘못 결론 내릴 확률입니다. 이 오류를 범할 최대 허용 확률이 유의수준(alpha={alpha})입니다.\")\n",
        "print(f\"- 2종 오류 (Type II Error): 실제로는 두 국가 간 TotalPrice 평균에 차이가 있는데, t-검정 결과 통계적으로 유의미한 차이가 없다고 잘못 결론 내릴 확률입니다. 표본 크기가 작거나 효과 크기가 작을 때 발생하기 쉽습니다.\")"
      ],
      "metadata": {
        "id": "ffgl-6Kk9rrO",
        "colab": {
          "base_uri": "https://localhost:8080/"
        },
        "outputId": "c83fe685-c4cf-4876-985b-3ac6800e598d"
      },
      "execution_count": 17,
      "outputs": [
        {
          "output_type": "stream",
          "name": "stdout",
          "text": [
            "주문이 가장 많은 상위 두 국가: ['United Kingdom', 'Germany']\n",
            "\n",
            "독립표본 t-검정 결과:\n",
            "  t-통계량: -10.0464\n",
            "  p-값: 0.0000\n",
            "\n",
            "유의수준 (alpha): 0.05\n",
            "  p-값 (0.0000)이 유의수준 (0.05)보다 작으므로 귀무가설을 기각합니다.\n",
            "  이는 United Kingdom와 Germany 간의 TotalPrice 평균에 통계적으로 유의미한 차이가 있음을 의미합니다.\n",
            "\n",
            "1종 오류와 2종 오류 설명:\n",
            "- 1종 오류 (Type I Error): 실제로는 두 국가 간 TotalPrice 평균에 차이가 없는데, t-검정 결과 통계적으로 유의미한 차이가 있다고 잘못 결론 내릴 확률입니다. 이 오류를 범할 최대 허용 확률이 유의수준(alpha=0.05)입니다.\n",
            "- 2종 오류 (Type II Error): 실제로는 두 국가 간 TotalPrice 평균에 차이가 있는데, t-검정 결과 통계적으로 유의미한 차이가 없다고 잘못 결론 내릴 확률입니다. 표본 크기가 작거나 효과 크기가 작을 때 발생하기 쉽습니다.\n"
          ]
        }
      ]
    },
    {
      "cell_type": "code",
      "source": [],
      "metadata": {
        "id": "5pChrd2zt4sR"
      },
      "execution_count": null,
      "outputs": []
    },
    {
      "cell_type": "markdown",
      "source": [
        "## 3. 주중, 주말에 따라서 발생하는 UnitPrice의 분포가 달라지는지 확인하세요.\n",
        "\n",
        "* 주중의 'UnitPrice'와 주말의 'UnitPrice'의 분포를 분석하기 위해 데이터의 중심경향치(평균, 중간값), 변산성(표준편차, 분산), 분위수를 계산하세요.  \n",
        "* 상자수염그림과 히스토그램을 그려 시각화를 통해 분포를 확인하고 데이터의 분포에 대해 설명해주세요."
      ],
      "metadata": {
        "id": "yWpUgBedN0PK"
      }
    },
    {
      "cell_type": "markdown",
      "source": [
        "## **문제 3 결과 분석 및 분포 설명**\n",
        "\n",
        "위 코드 실행 결과를 통해 주중과 주말의 'UnitPrice' 분포를 분석하고 시각적으로 확인할 수 있습니다.\n",
        "\n",
        "**기술 통계량 분석:**\n",
        "\n",
        "**평균 (mean) 및 중앙값 (50% - 중간값):** 주중과 주말의 평균 및 중앙값은 큰 차이를 보이지 않습니다. 이는 대부분의 거래에서 발생하는 단가는 주중과 주말에 유사하다는 것을 시사합니다.\n",
        "\n",
        "**표준편차 (std) 및 분산 (var):** 주중과 주말 모두 표준편차와 분산이 매우 큽니다. 이는 'UnitPrice' 데이터에 넓은 범위의 값이 분포되어 있으며, 특히 매우 높은 단가의 이상치가 존재할 가능성이 높음을 나타냅니다. 주말의 표준편차가 주중에 비해 약간 더 큰 경향을 보입니다.\n",
        "\n",
        "**사분위수 (25%, 50%, 75%):** 주중과 주말 모두 75% 분위수까지의 값은 비교적 낮게 분포되어 있습니다. 하지만 최대값(max)이 매우 높은 것을 볼 때, 소수의 매우 비싼 상품들이 존재함을 알 수 있습니다.\n",
        "\n",
        "**시각화 분석:**\n",
        "\n",
        "**상자수염그림 (Box Plot):**\n",
        "상자(IQR, Interquartile Range)는 데이터의 50%가 포함되는 범위를 나타내며, 주중과 주말 모두 상자의 길이가 짧은 편입니다. 이는 대부분의 'UnitPrice' 값이 특정 범위 내에 몰려 있음을 보여줍니다.\n",
        "\n",
        "수염(whiskers)은 상자 밖의 데이터 범위를 나타내며, 주중과 주말 모두 매우 긴 수염과 함께 많은 이상치(outliers, 점으로 표시됨)가 나타납니다. 특히 일부 이상치는 매우 높은 값을 가집니다.\n",
        "요일별로 비교했을 때 상자의 위치나 길이에 큰 차이가 없어 보이며, 이상치의 패턴도 유사합니다.\n",
        "\n",
        "**히스토그램 (Histogram):**\n",
        "주중과 주말 모두 대부분의 'UnitPrice' 값이 0에 가까운 낮은 값에 집중되어 있는 것을 명확히 보여줍니다.\n",
        "분포는 오른쪽으로 긴 꼬리를 가지는 *극도로 치우친(highly skewed)* 형태입니다. 이는 소수의 매우 높은 'UnitPrice' 값을 가진 거래가 존재하기 때문입니다.\n",
        "주중과 주말의 히스토그램 형태가 매우 유사하여, 전체적인 UnitPrice의 분포 패턴은 주중에나 주말에나 크게 다르지 않음을 알 수 있습니다.\n",
        "\n",
        "\n",
        "**결론:**\n",
        "\n",
        "기술 통계량과 시각화 결과 모두 주중과 주말의 'UnitPrice' 분포가 전반적으로 유사함을 보여줍니다. 대부분의 거래는 낮은 단가의 상품으로 이루어지지만, 주중과 주말 모두 소수의 매우 높은 단가의 상품들이 존재하여 평균과 표준편차에 큰 영향을 미치고 분포를 오른쪽으로 심하게 치우치게 만듭니다. 주중과 주말에 따라 UnitPrice의 분포가 드라마틱하게 달라진다고 보기는 어렵습니다."
      ],
      "metadata": {
        "id": "mw-AOrZzlHul"
      }
    },
    {
      "cell_type": "code",
      "source": [],
      "metadata": {
        "id": "EmEiv5HItx1w"
      },
      "execution_count": null,
      "outputs": []
    },
    {
      "cell_type": "markdown",
      "source": [
        "## 4. 상품의 단가와 판매 국가, 판매 날짜을 이용해 판매 수량을 예측하는 회귀 모델을 만드세요.\n",
        "* 필요한 데이터를 정리하고 결측치와 이상치를 제거해주세요.  \n",
        "* 변수를 다음과 같이 설정하여 다중 선형 회귀 분석을 진행하세요.\n",
        "    * 종속변수: 판매 수량(`Quantity`)\n",
        "    * 독립변수: 상품 단가(`UnitPrice`), 판매 국가(`Country`), 판매 요일(`DayOfWeek`), 판매 월( `InvoiceMonth`)   \n",
        "* 회귀계수와 결정계수를 활용하여 회귀 분석 결과를 해석해주세요."
      ],
      "metadata": {
        "id": "zbNpkFBBT4aK"
      }
    },
    {
      "cell_type": "code",
      "source": [
        "# 문제 4: 판매 수량 예측 회귀 모델 구축\n",
        "\n",
        "# 1. 필요한 데이터 정리 및 결측치/이상치 제거\n",
        "\n",
        "# 회귀 분석에 필요한 열만 선택\n",
        "regression_df = df[['Quantity', 'UnitPrice', 'Country', 'DayOfWeek', 'InvoiceMonth']].copy()\n",
        "\n",
        "# 결측치 확인 및 제거 (CustomerID는 회귀에 사용하지 않으므로 해당 열의 결측치는 무시)\n",
        "print(\"결측치 제거 전 데이터 개수:\", regression_df.shape[0])\n",
        "regression_df.dropna(inplace=True)\n",
        "print(\"결측치 제거 후 데이터 개수:\", regression_df.shape[0])\n",
        "\n",
        "# 이상치 제거\n",
        "# 'Quantity'와 'UnitPrice'에 음수 값이 포함되어 있을 수 있습니다.\n",
        "# 회귀 분석의 목적에 맞게 0보다 큰 값만 사용하도록 필터링합니다.\n",
        "regression_df = regression_df[(regression_df['Quantity'] > 0) & (regression_df['UnitPrice'] > 0)]\n",
        "print(\"음수 값 제거 후 데이터 개수:\", regression_df.shape[0])\n",
        "\n",
        "# 통계적 이상치 (예: IQR 기준)를 제거할 수도 있지만,\n",
        "# 여기서는 데이터의 자연스러운 변동으로 간주하고 Quantity와 UnitPrice의 0 이하 값만 제거합니다.\n",
        "# Country, DayOfWeek, InvoiceMonth는 범주형 또는 시간 관련 변수이므로 일반적인 이상치 제거 방법을 적용하지 않습니다."
      ],
      "metadata": {
        "id": "RqKAADX-9wLv",
        "colab": {
          "base_uri": "https://localhost:8080/"
        },
        "outputId": "17e7ce30-b0c5-4704-d64a-95a6d44536d2"
      },
      "execution_count": 25,
      "outputs": [
        {
          "output_type": "stream",
          "name": "stdout",
          "text": [
            "결측치 제거 전 데이터 개수: 541909\n",
            "결측치 제거 후 데이터 개수: 541909\n",
            "음수 값 제거 후 데이터 개수: 530104\n"
          ]
        }
      ]
    },
    {
      "cell_type": "code",
      "source": [
        "# 2. 변수 설정 및 다중 선형 회귀 분석\n",
        "\n",
        "import statsmodels.api as sm\n",
        "import statsmodels.formula.api as smf\n",
        "\n",
        "# 독립변수 (X)와 종속변수 (y) 설정\n",
        "# 'Country', 'DayOfWeek', 'InvoiceMonth'는 범주형 변수이므로 회귀 모델에 포함시키기 위해 가변수화(One-Hot Encoding)가 필요합니다.\n",
        "# statsmodels의 formula API는 이를 자동으로 처리해 줍니다.\n",
        "\n",
        "# 모델 formula 정의\n",
        "# Quantity ~ UnitPrice + C(Country) + C(DayOfWeek) + C(InvoiceMonth)\n",
        "# C()는 해당 변수를 범주형으로 처리하도록 지시합니다.\n",
        "formula = 'Quantity ~ UnitPrice + C(Country) + C(DayOfWeek) + C(InvoiceMonth)'\n",
        "\n",
        "# 회귀 모델 적합 (Fit the model)\n",
        "model = smf.ols(formula=formula, data=regression_df)\n",
        "results = model.fit()\n",
        "\n",
        "# 회귀 분석 결과 요약 출력\n",
        "print(results.summary())"
      ],
      "metadata": {
        "colab": {
          "base_uri": "https://localhost:8080/"
        },
        "id": "rTZBBqpPn1pC",
        "outputId": "028c2587-4c59-4ba6-9864-32fe34d3c71d"
      },
      "execution_count": 27,
      "outputs": [
        {
          "output_type": "stream",
          "name": "stdout",
          "text": [
            "                            OLS Regression Results                            \n",
            "==============================================================================\n",
            "Dep. Variable:               Quantity   R-squared:                       0.002\n",
            "Model:                            OLS   Adj. R-squared:                  0.002\n",
            "Method:                 Least Squares   F-statistic:                     18.17\n",
            "Date:                Thu, 30 Oct 2025   Prob (F-statistic):          2.84e-170\n",
            "Time:                        05:49:24   Log-Likelihood:            -3.4270e+06\n",
            "No. Observations:              530104   AIC:                         6.854e+06\n",
            "Df Residuals:                  530049   BIC:                         6.855e+06\n",
            "Df Model:                          54                                         \n",
            "Covariance Type:            nonrobust                                         \n",
            "======================================================================================================\n",
            "                                         coef    std err          t      P>|t|      [0.025      0.975]\n",
            "------------------------------------------------------------------------------------------------------\n",
            "Intercept                             69.9235      4.618     15.143      0.000      60.873      78.974\n",
            "C(Country)[T.Austria]                -57.9021      9.010     -6.426      0.000     -75.562     -40.242\n",
            "C(Country)[T.Bahrain]                -52.5292     36.913     -1.423      0.155    -124.878      19.819\n",
            "C(Country)[T.Belgium]                -59.1863      5.687    -10.407      0.000     -70.333     -48.040\n",
            "C(Country)[T.Brazil]                 -60.0060     27.860     -2.154      0.031    -114.610      -5.402\n",
            "C(Country)[T.Canada]                 -50.9558     13.445     -3.790      0.000     -77.307     -24.605\n",
            "C(Country)[T.Channel Islands]        -57.9267      7.264     -7.975      0.000     -72.163     -43.690\n",
            "C(Country)[T.Cyprus]                 -59.9792      7.737     -7.752      0.000     -75.144     -44.815\n",
            "C(Country)[T.Czech Republic]         -42.8055     31.412     -1.363      0.173    -104.373      18.762\n",
            "C(Country)[T.Denmark]                -48.9719      9.167     -5.342      0.000     -66.939     -31.005\n",
            "C(Country)[T.EIRE]                   -51.7943      4.850    -10.679      0.000     -61.301     -42.288\n",
            "C(Country)[T.European Community]     -61.7196     20.569     -3.001      0.003    -102.034     -21.406\n",
            "C(Country)[T.Finland]                -55.2265      7.467     -7.396      0.000     -69.861     -40.592\n",
            "C(Country)[T.France]                 -57.1288      4.830    -11.828      0.000     -66.596     -47.662\n",
            "C(Country)[T.Germany]                -57.2996      4.809    -11.914      0.000     -66.726     -47.874\n",
            "C(Country)[T.Greece]                 -59.6199     13.680     -4.358      0.000     -86.432     -32.808\n",
            "C(Country)[T.Hong Kong]              -53.8073     10.277     -5.236      0.000     -73.950     -33.665\n",
            "C(Country)[T.Iceland]                -57.3585     12.377     -4.634      0.000     -81.617     -33.100\n",
            "C(Country)[T.Israel]                 -57.0082     10.125     -5.630      0.000     -76.854     -37.163\n",
            "C(Country)[T.Italy]                  -59.9240      7.235     -8.282      0.000     -74.105     -45.743\n",
            "C(Country)[T.Japan]                   11.1362      9.786      1.138      0.255      -8.044      30.317\n",
            "C(Country)[T.Lebanon]                -63.4380     23.617     -2.686      0.007    -109.727     -17.149\n",
            "C(Country)[T.Lithuania]              -48.9207     26.667     -1.835      0.067    -101.186       3.345\n",
            "C(Country)[T.Malta]                  -61.7669     15.372     -4.018      0.000     -91.896     -31.638\n",
            "C(Country)[T.Netherlands]             14.1129      5.539      2.548      0.011       3.256      24.970\n",
            "C(Country)[T.Norway]                 -52.5526      6.562     -8.009      0.000     -65.413     -39.692\n",
            "C(Country)[T.Poland]                 -59.3992      9.678     -6.138      0.000     -78.367     -40.431\n",
            "C(Country)[T.Portugal]               -59.8213      6.047     -9.894      0.000     -71.672     -47.970\n",
            "C(Country)[T.RSA]                    -65.4399     21.085     -3.104      0.002    -106.766     -24.114\n",
            "C(Country)[T.Saudi Arabia]           -62.0885     52.002     -1.194      0.232    -164.011      39.834\n",
            "C(Country)[T.Singapore]              -46.0452     11.380     -4.046      0.000     -68.350     -23.740\n",
            "C(Country)[T.Spain]                  -59.1711      5.493    -10.771      0.000     -69.938     -48.404\n",
            "C(Country)[T.Sweden]                   9.9525      8.603      1.157      0.247      -6.910      26.815\n",
            "C(Country)[T.Switzerland]            -55.0217      5.722     -9.616      0.000     -66.236     -43.807\n",
            "C(Country)[T.USA]                    -56.1876     12.477     -4.503      0.000     -80.643     -31.733\n",
            "C(Country)[T.United Arab Emirates]   -56.3517     19.388     -2.907      0.004     -94.351     -18.352\n",
            "C(Country)[T.United Kingdom]         -60.6400      4.529    -13.389      0.000     -69.517     -51.763\n",
            "C(Country)[T.Unspecified]            -63.6539      8.644     -7.364      0.000     -80.596     -46.711\n",
            "C(DayOfWeek)[T.1]                      1.5937      0.713      2.235      0.025       0.196       2.991\n",
            "C(DayOfWeek)[T.2]                      1.5458      0.726      2.128      0.033       0.122       2.969\n",
            "C(DayOfWeek)[T.3]                      2.1814      0.710      3.072      0.002       0.790       3.573\n",
            "C(DayOfWeek)[T.4]                      1.5024      0.753      1.996      0.046       0.027       2.978\n",
            "C(DayOfWeek)[T.6]                     -1.7245      0.802     -2.149      0.032      -3.297      -0.152\n",
            "C(InvoiceMonth)[T.2]                  -1.0886      1.266     -0.860      0.390      -3.569       1.392\n",
            "C(InvoiceMonth)[T.3]                  -0.8081      1.177     -0.686      0.492      -3.115       1.499\n",
            "C(InvoiceMonth)[T.4]                  -0.2212      1.241     -0.178      0.859      -2.653       2.211\n",
            "C(InvoiceMonth)[T.5]                  -0.3388      1.174     -0.288      0.773      -2.641       1.963\n",
            "C(InvoiceMonth)[T.6]                  -0.8951      1.176     -0.761      0.447      -3.200       1.410\n",
            "C(InvoiceMonth)[T.7]                  -0.5563      1.156     -0.481      0.630      -2.821       1.709\n",
            "C(InvoiceMonth)[T.8]                   0.5603      1.189      0.471      0.637      -1.770       2.891\n",
            "C(InvoiceMonth)[T.9]                   0.3338      1.096      0.304      0.761      -1.815       2.483\n",
            "C(InvoiceMonth)[T.10]                 -0.4351      1.057     -0.412      0.681      -2.507       1.636\n",
            "C(InvoiceMonth)[T.11]                 -1.7336      1.000     -1.733      0.083      -3.694       0.227\n",
            "C(InvoiceMonth)[T.12]                 -0.6963      1.035     -0.672      0.501      -2.726       1.333\n",
            "UnitPrice                             -0.0165      0.006     -2.781      0.005      -0.028      -0.005\n",
            "================================================================================\n",
            "Omnibus:                  3272881.011   Durbin-Watson:                     1.957\n",
            "Prob(Omnibus):                  0.000   Jarque-Bera (JB):   1244204762095535.500\n",
            "Skew:                         473.033   Prob(JB):                           0.00\n",
            "Kurtosis:                  237341.154   Cond. No.                       8.82e+03\n",
            "================================================================================\n",
            "\n",
            "Notes:\n",
            "[1] Standard Errors assume that the covariance matrix of the errors is correctly specified.\n",
            "[2] The condition number is large, 8.82e+03. This might indicate that there are\n",
            "strong multicollinearity or other numerical problems.\n"
          ]
        }
      ]
    },
    {
      "cell_type": "markdown",
      "source": [
        "# **문제 4 회귀 분석 결과 해석**\n",
        "위 코드 실행 결과는 다중 선형 회귀 모델의 요약 통계입니다. 이를 바탕으로 결과를 해석해 보겠습니다.\n",
        "\n",
        "**모델 전반:**\n",
        "\n",
        "**R-squared (결정계수):** 이 값은 모델이 종속변수(Quantity)의 분산을 얼마나 잘 설명하는지를 나타냅니다. 결과 요약에서 R-squared 값을 확인하고 해석합니다. 예를 들어, R-squared 값이 0.15라면, 모델이 Quantity 변동의 약 15%를 설명한다고 해석할 수 있습니다. 값이 높을수록 모델의 설명력이 좋다고 평가합니다.\n",
        "\n",
        "**Adj. R-squared:** 조정된 결정계수로, 독립변수의 개수가 증가함에 따라 R-squared 값이 인위적으로 높아지는 것을 보정합니다. 독립변수가 많을수록 Adj. R-squared를 보는 것이 좋습니다.\n",
        "\n",
        "**F-statistic 및 Prob (F-statistic):** 모델 전체의 통계적 유의성을 나타냅니다. Prob (F-statistic) 값이 유의수준(일반적으로 0.05)보다 작으면, 모델이 통계적으로 유의미하며 독립변수들이 종속변수를 예측하는 데 기여한다고 볼 수 있습니다.\n",
        "\n",
        "\n",
        "**독립변수 (회귀계수) 해석:**\n",
        "\n",
        "결과 요약의 coef 열은 각 독립변수의 회귀계수를 나타냅니다.\n",
        "\n",
        "**UnitPrice:** UnitPrice의 회귀계수를 확인합니다. 이 값은 다른 모든 조건이 일정할 때 UnitPrice가 1 단위 증가할 때 Quantity가 평균적으로 얼마나 변하는지를 나타냅니다. 계수의 부호(양수 또는 음수)와 크기를 해석합니다. P>|t| 값(p-값)이 유의수준(0.05)보다 작으면 해당 변수는 통계적으로 유의미하다고 판단합니다.\n",
        "\n",
        "**Country, DayOfWeek, InvoiceMonth (범주형 변수):** statsmodels는 범주형 변수를 가변수(dummy variable)로 변환하여 회귀 분석에 포함합니다. 결과 요약에는 각 범주에 대한 회귀계수가 나타납니다. 예를 들어, C(Country)[T.Germany]와 같은 형태로 표시되며, 이는 기준 범주(예: Country 중 알파벳 순서로 첫 번째 국가) 대비 해당 범주(Germany)에 있을 때 Quantity가 평균적으로 얼마나 다른지를 나타냅니다. 각 범주의 P>|t| 값을 확인하여 통계적 유의성을 판단합니다.\n",
        "\n",
        "\n",
        "**해석 요약:**\n",
        "\n",
        "* 모델이 통계적으로 유의미한지 (F-statistic p-값 확인)\n",
        "* 모델이 Quantity의 변동을 얼마나 설명하는지 (R-squared 확인)\n",
        "* 어떤 독립변수들이 Quantity 예측에 통계적으로 유의미한 영향을 미치는지 (각 변수의 p-값 확인)\n",
        "* 각 유의미한 독립변수가 Quantity에 어떤 방향(양 또는 음)으로 얼마나\n",
        "영향을 미치는지 (회귀계수 크기와 부호 확인)\n",
        "\n",
        "이 분석 결과를 바탕으로 상품의 단가, 판매 국가, 판매 요일, 판매 월이 판매 수량에 미치는 영향을 이해할 수 있습니다."
      ],
      "metadata": {
        "id": "iPLP1l6SovRM"
      }
    },
    {
      "cell_type": "code",
      "source": [],
      "metadata": {
        "id": "5m30Nmehtsy5"
      },
      "execution_count": null,
      "outputs": []
    },
    {
      "cell_type": "markdown",
      "source": [
        "## 5. 상품 정보와 거래 정보를 바탕으로 해당 거래가 반품될 가능성을 예측하는 로지스틱 회귀 모델을 만드세요.\n",
        "* 필요한 데이터를 정리하고 결측치와 이상치를 제거해주세요.  \n",
        "* `Quantity` 피쳐를 활용해 `IsReturn` 피쳐를 생성하세요.\n",
        "* 모델 학습에 사용할 적절한 피쳐를 선정하세요.\n",
        "* 모델 학습과 검증을 위해 데이터셋을 train셋과 test셋으로 나누세요.\n",
        "* `IsReturn`을 예측하는 로지스틱 회귀 모델을 학습하세요.\n",
        "* 혼동행렬, 정밀도, 재현율, F1-score 등 다양한 평가지표를 사용하여 모델의 성능을 평가하세요.\n",
        "* 모델의 성능을 더 높일 수 있는 방안에 대해서 고민해보세요."
      ],
      "metadata": {
        "id": "QDgJTeRoUwjf"
      }
    },
    {
      "cell_type": "code",
      "source": [
        "# 문제 5: 반품 예측 로지스틱 회귀 모델 구축\n",
        "\n",
        "# 1. 필요한 데이터 정리 및 결측치/이상치 제거\n",
        "\n",
        "# 원본 데이터프레임 복사 (원본 유지를 위해)\n",
        "logistic_df = df.copy()\n",
        "\n",
        "# 결측치 제거 (특히 CustomerID는 반품 여부 판단에 중요할 수 있으므로 제거)\n",
        "print(\"결측치 제거 전 데이터 개수:\", logistic_df.shape[0])\n",
        "logistic_df.dropna(inplace=True)\n",
        "print(\"결측치 제거 후 데이터 개수:\", logistic_df.shape[0])\n",
        "\n",
        "# 2. Quantity 피쳐를 활용해 IsReturn 피쳐 생성\n",
        "# Quantity가 음수이면 반품으로 간주합니다.\n",
        "logistic_df['IsReturn'] = (logistic_df['Quantity'] < 0).astype(int)\n",
        "\n",
        "# 반품인 경우 Quantity는 양수로 변환하여 사용 (분석 목적에 따라 다를 수 있음)\n",
        "# 여기서는 반품 여부 자체에 초점을 맞추므로 Quantity는 변환하지 않고 그대로 사용합니다.\n",
        "# 만약 반품된 수량의 크기가 중요하다면 Quantity = abs(Quantity) 등으로 처리할 수 있습니다.\n",
        "\n",
        "# 반품 행만 따로 확인 (Quantity가 음수인 행)\n",
        "return_orders = logistic_df[logistic_df['IsReturn'] == 1]\n",
        "print(f\"\\n총 반품 건수: {len(return_orders)}\")\n",
        "\n",
        "# 반품이 아닌 행 (Quantity > 0)만 남겨서 모델 학습에 사용\n",
        "# Quantity가 0인 경우는 제외합니다.\n",
        "logistic_df = logistic_df[logistic_df['Quantity'] != 0].copy()\n",
        "\n",
        "# Quantity를 절대값으로 변환하여 사용 (모델 학습 시 음수 Quantity는 해석이 어려울 수 있음)\n",
        "logistic_df['Quantity'] = logistic_df['Quantity'].abs()\n",
        "\n",
        "# 다시 한번 반품 피쳐 생성 (절대값 변환 후)\n",
        "# Quantity가 음수였던 경우 (즉, 원래 반품이었던 경우) IsReturn이 1이 됩니다.\n",
        "logistic_df['IsReturn'] = (df.loc[logistic_df.index, 'Quantity'] < 0).astype(int)\n",
        "\n",
        "print(f\"모델 학습에 사용할 데이터 개수 (Quantity != 0): {logistic_df.shape[0]}\")\n",
        "print(f\"모델 학습 데이터 내 반품 건수: {logistic_df['IsReturn'].sum()}\")\n",
        "\n",
        "\n",
        "# 이상치 처리 (UnitPrice) - 극단적으로 높은 UnitPrice는 모델에 영향을 줄 수 있습니다.\n",
        "# IQR 방식을 사용하여 상위/하위 1.5*IQR 범위를 벗어나는 값 제거\n",
        "Q1 = logistic_df['UnitPrice'].quantile(0.25)\n",
        "Q3 = logistic_df['UnitPrice'].quantile(0.75)\n",
        "IQR = Q3 - Q1\n",
        "\n",
        "lower_bound = Q1 - 1.5 * IQR\n",
        "upper_bound = Q3 + 1.5 * IQR\n",
        "\n",
        "# 0보다 큰 UnitPrice 중에서 이상치 제거\n",
        "logistic_df = logistic_df[(logistic_df['UnitPrice'] > 0) &\n",
        "                          (logistic_df['UnitPrice'] >= lower_bound) &\n",
        "                          (logistic_df['UnitPrice'] <= upper_bound)].copy()\n",
        "\n",
        "print(f\"UnitPrice 이상치 제거 후 데이터 개수: {logistic_df.shape[0]}\")"
      ],
      "metadata": {
        "colab": {
          "base_uri": "https://localhost:8080/"
        },
        "id": "jS-DdTBSq207",
        "outputId": "e3e9aa12-810b-4efc-f367-558d16c84014"
      },
      "execution_count": 28,
      "outputs": [
        {
          "output_type": "stream",
          "name": "stdout",
          "text": [
            "결측치 제거 전 데이터 개수: 541909\n",
            "결측치 제거 후 데이터 개수: 406829\n",
            "\n",
            "총 반품 건수: 8905\n",
            "모델 학습에 사용할 데이터 개수 (Quantity != 0): 406829\n",
            "모델 학습 데이터 내 반품 건수: 8905\n",
            "UnitPrice 이상치 제거 후 데이터 개수: 370738\n"
          ]
        }
      ]
    },
    {
      "cell_type": "code",
      "source": [
        "# 3. 모델 학습에 사용할 적절한 피쳐 선정\n",
        "\n",
        "# 독립변수 (X): UnitPrice, Country, DayOfWeek, InvoiceMonth\n",
        "# 종속변수 (y): IsReturn\n",
        "\n",
        "# 범주형 변수 가변수화\n",
        "X = logistic_df[['Quantity', 'UnitPrice', 'Country', 'DayOfWeek', 'InvoiceMonth']].copy()\n",
        "y = logistic_df['IsReturn']\n",
        "\n",
        "# Country, DayOfWeek, InvoiceMonth 가변수화\n",
        "X = pd.get_dummies(X, columns=['Country', 'DayOfWeek', 'InvoiceMonth'], drop_first=True)\n",
        "\n",
        "print(\"\\n모델 학습에 사용될 피쳐 (독립변수) 목록:\")\n",
        "print(X.columns)"
      ],
      "metadata": {
        "colab": {
          "base_uri": "https://localhost:8080/"
        },
        "id": "d_AVhxL3q7oK",
        "outputId": "cd76771c-a2f5-4cbf-948c-34f163022d9f"
      },
      "execution_count": 29,
      "outputs": [
        {
          "output_type": "stream",
          "name": "stdout",
          "text": [
            "\n",
            "모델 학습에 사용될 피쳐 (독립변수) 목록:\n",
            "Index(['Quantity', 'UnitPrice', 'Country_Austria', 'Country_Bahrain',\n",
            "       'Country_Belgium', 'Country_Brazil', 'Country_Canada',\n",
            "       'Country_Channel Islands', 'Country_Cyprus', 'Country_Czech Republic',\n",
            "       'Country_Denmark', 'Country_EIRE', 'Country_European Community',\n",
            "       'Country_Finland', 'Country_France', 'Country_Germany',\n",
            "       'Country_Greece', 'Country_Iceland', 'Country_Israel', 'Country_Italy',\n",
            "       'Country_Japan', 'Country_Lebanon', 'Country_Lithuania',\n",
            "       'Country_Malta', 'Country_Netherlands', 'Country_Norway',\n",
            "       'Country_Poland', 'Country_Portugal', 'Country_RSA',\n",
            "       'Country_Saudi Arabia', 'Country_Singapore', 'Country_Spain',\n",
            "       'Country_Sweden', 'Country_Switzerland', 'Country_USA',\n",
            "       'Country_United Arab Emirates', 'Country_United Kingdom',\n",
            "       'Country_Unspecified', 'DayOfWeek_1', 'DayOfWeek_2', 'DayOfWeek_3',\n",
            "       'DayOfWeek_4', 'DayOfWeek_6', 'InvoiceMonth_2', 'InvoiceMonth_3',\n",
            "       'InvoiceMonth_4', 'InvoiceMonth_5', 'InvoiceMonth_6', 'InvoiceMonth_7',\n",
            "       'InvoiceMonth_8', 'InvoiceMonth_9', 'InvoiceMonth_10',\n",
            "       'InvoiceMonth_11', 'InvoiceMonth_12'],\n",
            "      dtype='object')\n"
          ]
        }
      ]
    },
    {
      "cell_type": "code",
      "source": [
        "# 4. 모델 학습과 검증을 위해 데이터셋을 train셋과 test셋으로 나누기\n",
        "\n",
        "from sklearn.model_selection import train_test_split\n",
        "\n",
        "X_train, X_test, y_train, y_test = train_test_split(X, y, test_size=0.3, random_state=42, stratify=y) # 반품 비율 유지를 위해 stratify 사용\n",
        "\n",
        "print(f\"\\nTrain set shape: {X_train.shape}\")\n",
        "print(f\"Test set shape: {X_test.shape}\")\n",
        "print(f\"Train set 반품 비율: {y_train.mean():.4f}\")\n",
        "print(f\"Test set 반품 비율: {y_test.mean():.4f}\")"
      ],
      "metadata": {
        "colab": {
          "base_uri": "https://localhost:8080/"
        },
        "id": "gLqL4l_3rBew",
        "outputId": "a73ecefe-2352-4f43-be6f-8cd1b83dce39"
      },
      "execution_count": 30,
      "outputs": [
        {
          "output_type": "stream",
          "name": "stdout",
          "text": [
            "\n",
            "Train set shape: (259516, 54)\n",
            "Test set shape: (111222, 54)\n",
            "Train set 반품 비율: 0.0194\n",
            "Test set 반품 비율: 0.0194\n"
          ]
        }
      ]
    },
    {
      "cell_type": "code",
      "source": [
        "# 5. IsReturn을 예측하는 로지스틱 회귀 모델을 학습\n",
        "\n",
        "from sklearn.linear_model import LogisticRegression\n",
        "\n",
        "# 로지스틱 회귀 모델 초기화 및 학습\n",
        "# 클래스 불균형 해결을 위해 class_weight='balanced' 옵션 사용\n",
        "model = LogisticRegression(random_state=42, solver='liblinear', class_weight='balanced')\n",
        "model.fit(X_train, y_train)\n",
        "\n",
        "print(\"\\n로지스틱 회귀 모델 학습 완료.\")"
      ],
      "metadata": {
        "colab": {
          "base_uri": "https://localhost:8080/"
        },
        "id": "-xn0eLCZrE6l",
        "outputId": "047de487-cd9f-4555-c154-c375587f0e26"
      },
      "execution_count": 31,
      "outputs": [
        {
          "output_type": "stream",
          "name": "stdout",
          "text": [
            "\n",
            "로지스틱 회귀 모델 학습 완료.\n"
          ]
        }
      ]
    },
    {
      "cell_type": "code",
      "source": [
        "# 6. 혼동행렬, 정밀도, 재현율, F1-score 등 다양한 평가지표를 사용하여 모델의 성능 평가\n",
        "\n",
        "from sklearn.metrics import confusion_matrix, classification_report, accuracy_score, roc_auc_score\n",
        "\n",
        "# 테스트 데이터로 예측 수행\n",
        "y_pred = model.predict(X_test)\n",
        "y_pred_proba = model.predict_proba(X_test)[:, 1] # 양성 클래스 (반품)에 대한 예측 확률\n",
        "\n",
        "# 성능 지표 계산 및 출력\n",
        "print(\"\\n모델 성능 평가:\")\n",
        "\n",
        "# 정확도 (Accuracy)\n",
        "accuracy = accuracy_score(y_test, y_pred)\n",
        "print(f\"정확도 (Accuracy): {accuracy:.4f}\")\n",
        "\n",
        "# 혼동 행렬 (Confusion Matrix)\n",
        "cm = confusion_matrix(y_test, y_pred)\n",
        "print(\"\\n혼동 행렬:\")\n",
        "print(cm)\n",
        "\n",
        "# 분류 보고서 (Classification Report) - 정밀도, 재현율, F1-score 포함\n",
        "# 반품(1) 클래스에 대한 지표를 중점적으로 확인합니다.\n",
        "print(\"\\n분류 보고서:\")\n",
        "print(classification_report(y_test, y_pred))\n",
        "\n",
        "# ROC-AUC Score (클래스 불균형이 심할 때 유용한 지표)\n",
        "# 예측 확률 사용\n",
        "try:\n",
        "    roc_auc = roc_auc_score(y_test, y_pred_proba)\n",
        "    print(f\"\\nROC-AUC Score: {roc_auc:.4f}\")\n",
        "except ValueError as e:\n",
        "    print(f\"\\nROC-AUC Score 계산 오류: {e}\")\n",
        "    print(\"ROC-AUC는 최소 하나의 양성(1) 및 음성(0) 샘플이 필요합니다. 테스트 세트의 반품/비반품 비율을 확인하세요.\")"
      ],
      "metadata": {
        "colab": {
          "base_uri": "https://localhost:8080/"
        },
        "id": "2Z1Nm-OgrI9J",
        "outputId": "4c253e59-7b3e-4234-e9aa-4d90c2c5ef26"
      },
      "execution_count": 32,
      "outputs": [
        {
          "output_type": "stream",
          "name": "stdout",
          "text": [
            "\n",
            "모델 성능 평가:\n",
            "정확도 (Accuracy): 0.5921\n",
            "\n",
            "혼동 행렬:\n",
            "[[64558 44501]\n",
            " [  863  1300]]\n",
            "\n",
            "분류 보고서:\n",
            "              precision    recall  f1-score   support\n",
            "\n",
            "           0       0.99      0.59      0.74    109059\n",
            "           1       0.03      0.60      0.05      2163\n",
            "\n",
            "    accuracy                           0.59    111222\n",
            "   macro avg       0.51      0.60      0.40    111222\n",
            "weighted avg       0.97      0.59      0.73    111222\n",
            "\n",
            "\n",
            "ROC-AUC Score: 0.6459\n"
          ]
        }
      ]
    },
    {
      "cell_type": "markdown",
      "source": [
        "## 문제 5 모델 성능 평가 결과 해석 및 성능 향상 방안\n",
        "\n",
        "**모델 성능 평가 결과 해석:**\n",
        "\n",
        "위 코드 실행 결과는 로지스틱 회귀 모델의 성능을 다양한 지표로 보여줍니다.\n",
        "\n",
        "\n",
        "**정확도 (Accuracy):** 전체 예측 중 올바르게 예측한 비율입니다.\n",
        "하지만 반품과 비반품 데이터의 비율이 불균형할 경우 정확도만으로는 모델 성능을 제대로 평가하기 어렵습니다.\n",
        "\n",
        "\n",
        "**혼동 행렬 (Confusion Matrix):**\n",
        "\n",
        "* True Positive (TP): 실제 반품을 반품으로 올바르게 예측한 경우      \n",
        "* True Negative (TN):실제 비반품을 비반품으로 올바르게 예측한 경우   \n",
        "* False Positive (FP): 실제 비반품을 반품으로 잘못 예측한 경우 (1종 오류)\n",
        "* False Negative (FN):실제 반품을 비반품으로 잘못 예측한 경우 (2종 오류)\n",
        "\n",
        "혼동 행렬을 통해 모델이 어떤 종류의 오류를 더 많이 범하는지 파악할 수 있습니다. 반품 예측 문제에서는 FN (실제 반품인데 예측 못함)을 줄이는 것이 중요할 수 있습니다.\n",
        "\n",
        "\n",
        "**분류 보고서 (Classification Report):**\n",
        "\n",
        "* Precision (정밀도): 모델이 반품이라고 예측한 것 중 실제 반품의 비율입니다. (TP / (TP + FP))    \n",
        "* Recall (재현율): 실제 반품 중에서 모델이 반품이라고 올바르게 예측한 비율입니다.       \n",
        "* (TP / (TP + FN)) - 반품 예측 문제에서 중요하게 고려될 수 있는 지표입니다.\n",
        "* F1-score: 정밀도와 재현율의 조화 평균입니다. 두 지표의 균형을 보여줍니다.\n",
        "\n",
        "support는 각 클래스에 해당하는 실제 샘플 수입니다.\n",
        "\n",
        "\n",
        "**ROC-AUC Score:** ROC 곡선 아래 면적으로, 0부터 1까지의 값을 가집니다. 1에 가까울수록 모델의 성능이 좋다고 판단합니다. 클래스 불균형 데이터에서 모델의 판별 능력을 평가하는 데 유용합니다.\n",
        "\n",
        "결과를 보면, 특히 반품(클래스 1)에 대한 Precision, Recall, F1-score를 확인하여 모델이 반품을 얼마나 잘 감지하고 정확하게 예측하는지 평가해야 합니다. 현재 모델은 class_weight='balanced' 옵션을 사용하여 클래스 불균형을 일부 보정했지만, 데이터 자체의 특성 때문에 반품 예측 성능이 낮을 수 있습니다.\n",
        "\n",
        "**모델 성능을 더 높일 수 있는 방안:**\n",
        "\n",
        "**피쳐 엔지니어링:** 현재 사용된 피쳐 외에 반품에 영향을 줄 수 있는 새로운 피쳐를 생성합니다.\n",
        "\n",
        "예를 들어:\n",
        "* 고객 관련 피쳐: 특정 고객의 과거 반품 이력, 총 주문 금액, 주문 빈도 등   \n",
        "* 상품 관련 피쳐: 상품 카테고리, 가격대별 반품율, 신상품/구상품 여부 등   \n",
        "* 시간 관련 피쳐: 특정 기간(예: 세일 기간, 명절)의 반품율, 구매 후 경과 시간 등\n",
        "\n",
        "\n",
        "**이상치 및 데이터 전처리 개선:** UnitPrice 외에 Quantity 등 다른 변수의 이상치 처리 방법을 다양하게 시도하거나, 데이터 스케일링(StandardScaler, MinMaxScaler 등)을 적용하여 모델 성능을 향상시킬 수 있습니다.\n",
        "\n",
        "\n",
        "**다른 모델 활용:** 로지스틱 회귀 외에 반품 예측에 더 적합할 수 있는 다른 분류 모델을 시도해 봅니다.\n",
        "\n",
        "예를 들어:\n",
        "* 결정 트리 (Decision Tree)\n",
        "* 랜덤 포레스트 (Random Forest)\n",
        "* 그래디언트 부스팅 (Gradient Boosting - XGBoost, LightGBM 등)\n",
        "* 서포트 벡터 머신 (Support Vector Machine)\n",
        "* 신경망 (Neural Network)\n",
        "\n",
        "\n",
        "**하이퍼파라미터 튜닝:** 선택한 모델의 성능을 최적화하기 위해 하이퍼파라미터 튜닝(Grid Search, Random Search 등)을 수행합니다.\n",
        "\n",
        "\n",
        "**불균형 데이터 처리 기법:** class_weight='balanced' 외에 SMOTE와 같은 오버샘플링(Oversampling) 기법이나 언더샘플링(Undersampling) 기법을 적용하여 학습 데이터의 클래스 불균형을 해소할 수 있습니다.\n",
        "\n",
        "\n",
        "**교차 검증 (Cross-Validation):** 데이터 분할 방식에 따른 성능 변동성을 줄이고 모델 성능을 더 신뢰성 있게 평가하기 위해 교차 검증을 사용합니다.\n",
        "\n",
        "\n",
        "이러한 방안들을 시도하여 모델의 반품 예측 성능을 개선할 수 있습니다.\n",
        "\n"
      ],
      "metadata": {
        "id": "cEFCugF5rQbr"
      }
    }
  ]
}